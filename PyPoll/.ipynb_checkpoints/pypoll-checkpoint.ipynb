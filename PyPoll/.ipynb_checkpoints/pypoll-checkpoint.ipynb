{
 "cells": [
  {
   "cell_type": "code",
   "execution_count": 1,
   "metadata": {
    "ExecuteTime": {
     "end_time": "2020-06-06T04:05:40.650198Z",
     "start_time": "2020-06-06T04:05:40.644207Z"
    }
   },
   "outputs": [],
   "source": [
    "# dependencies \n",
    "import csv\n",
    "import os\n",
    "import sys"
   ]
  },
  {
   "cell_type": "code",
   "execution_count": 2,
   "metadata": {
    "ExecuteTime": {
     "end_time": "2020-06-06T04:05:41.421896Z",
     "start_time": "2020-06-06T04:05:41.409894Z"
    }
   },
   "outputs": [
    {
     "data": {
      "text/plain": [
       "'..\\\\PyPoll\\\\election_data.csv'"
      ]
     },
     "execution_count": 2,
     "metadata": {},
     "output_type": "execute_result"
    }
   ],
   "source": [
    "# set file path\n",
    "csv_path = os.path.join(\"..\", \"PyPoll\", \"election_data.csv\")\n",
    "csv_path"
   ]
  },
  {
   "cell_type": "code",
   "execution_count": 3,
   "metadata": {
    "ExecuteTime": {
     "end_time": "2020-06-06T04:05:42.125515Z",
     "start_time": "2020-06-06T04:05:42.121528Z"
    }
   },
   "outputs": [],
   "source": [
    "# set variables for first row\n",
    "vote_count = {}\n",
    "candidates = []"
   ]
  },
  {
   "cell_type": "code",
   "execution_count": 4,
   "metadata": {
    "ExecuteTime": {
     "end_time": "2020-06-06T04:05:46.791656Z",
     "start_time": "2020-06-06T04:05:43.033339Z"
    }
   },
   "outputs": [
    {
     "name": "stdout",
     "output_type": "stream",
     "text": [
      "Total Votes: 3521002\n",
      "----------------------\n"
     ]
    }
   ],
   "source": [
    " # CSV reader specifies delimiter and variable that holds contents\n",
    "with open(csv_path, newline = \"\") as csv_file:\n",
    "    csv_reader = csv.reader(csv_file, delimiter = \",\")\n",
    "     \n",
    "    for row in csv_reader:\n",
    "        candidate = row[2]\n",
    "\n",
    "        if candidate not in candidates:\n",
    "            candidates.append(candidate)\n",
    "            vote_count[candidate]=1\n",
    "        else:\n",
    "            vote_count[candidate]=vote_count[candidate]+1\n",
    "    \n",
    "total_votes = sum(vote_count.values())\n",
    "\n",
    "print(f'Total Votes: {total_votes}')\n",
    "print('----------------------')"
   ]
  },
  {
   "cell_type": "code",
   "execution_count": null,
   "metadata": {},
   "outputs": [],
   "source": []
  }
 ],
 "metadata": {
  "hide_input": false,
  "kernelspec": {
   "display_name": "Python 3",
   "language": "python",
   "name": "python3"
  },
  "language_info": {
   "codemirror_mode": {
    "name": "ipython",
    "version": 3
   },
   "file_extension": ".py",
   "mimetype": "text/x-python",
   "name": "python",
   "nbconvert_exporter": "python",
   "pygments_lexer": "ipython3",
   "version": "3.7.4"
  },
  "toc": {
   "base_numbering": 1,
   "nav_menu": {},
   "number_sections": true,
   "sideBar": true,
   "skip_h1_title": false,
   "title_cell": "Table of Contents",
   "title_sidebar": "Contents",
   "toc_cell": false,
   "toc_position": {},
   "toc_section_display": true,
   "toc_window_display": false
  },
  "varInspector": {
   "cols": {
    "lenName": 16,
    "lenType": 16,
    "lenVar": 40
   },
   "kernels_config": {
    "python": {
     "delete_cmd_postfix": "",
     "delete_cmd_prefix": "del ",
     "library": "var_list.py",
     "varRefreshCmd": "print(var_dic_list())"
    },
    "r": {
     "delete_cmd_postfix": ") ",
     "delete_cmd_prefix": "rm(",
     "library": "var_list.r",
     "varRefreshCmd": "cat(var_dic_list()) "
    }
   },
   "types_to_exclude": [
    "module",
    "function",
    "builtin_function_or_method",
    "instance",
    "_Feature"
   ],
   "window_display": false
  }
 },
 "nbformat": 4,
 "nbformat_minor": 2
}
